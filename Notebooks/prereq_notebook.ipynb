{
 "cells": [
  {
   "cell_type": "code",
   "execution_count": 1,
   "id": "298ab006",
   "metadata": {},
   "outputs": [
    {
     "name": "stdout",
     "output_type": "stream",
     "text": [
      "Hello to the instructors of Code You!\n"
     ]
    }
   ],
   "source": [
    "print(\"Hello to the instructors of Code You!\")\n",
    "\n"
   ]
  },
  {
   "cell_type": "markdown",
   "id": "22a22ea2",
   "metadata": {},
   "source": [
    "# About Me\n",
    "Hi! I’m Greg. I’m excited to learn data analytics, explore real datasets, and improve my Python skills. I cannot wait to see how we can take raw data and transform it into a useable metric!\n"
   ]
  },
  {
   "cell_type": "markdown",
   "id": "a1c9af59",
   "metadata": {},
   "source": []
  }
 ],
 "metadata": {
  "kernelspec": {
   "display_name": "Python 3",
   "language": "python",
   "name": "python3"
  },
  "language_info": {
   "codemirror_mode": {
    "name": "ipython",
    "version": 3
   },
   "file_extension": ".py",
   "mimetype": "text/x-python",
   "name": "python",
   "nbconvert_exporter": "python",
   "pygments_lexer": "ipython3",
   "version": "3.13.7"
  }
 },
 "nbformat": 4,
 "nbformat_minor": 5
}
